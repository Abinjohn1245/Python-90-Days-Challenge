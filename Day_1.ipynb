{
 "cells": [
  {
   "cell_type": "code",
   "execution_count": null,
   "metadata": {
    "colab": {
     "base_uri": "https://localhost:8080/"
    },
    "executionInfo": {
     "elapsed": 28,
     "status": "ok",
     "timestamp": 1751818281591,
     "user": {
      "displayName": "Abin John",
      "userId": "10944509672743735787"
     },
     "user_tz": -330
    },
    "id": "8lTzPQplGHj2",
    "outputId": "2e92eecd-438c-49a9-ff04-43aa2f13ccad"
   },
   "outputs": [
    {
     "name": "stdout",
     "output_type": "stream",
     "text": [
      "Hello Abin John\n"
     ]
    }
   ],
   "source": [
    "print('Hello Abin John')"
   ]
  }
 ],
 "metadata": {
  "colab": {
   "authorship_tag": "ABX9TyPpRw9g7JRqZ8SRmkpAgt/m",
   "provenance": []
  },
  "kernelspec": {
   "display_name": "Python 3",
   "name": "python3"
  },
  "language_info": {
   "name": "python"
  }
 },
 "nbformat": 4,
 "nbformat_minor": 0
}
