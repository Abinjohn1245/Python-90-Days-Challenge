{
  "nbformat": 4,
  "nbformat_minor": 0,
  "metadata": {
    "colab": {
      "provenance": []
    },
    "kernelspec": {
      "name": "python3",
      "display_name": "Python 3"
    },
    "language_info": {
      "name": "python"
    }
  },
  "cells": [
    {
      "cell_type": "markdown",
      "source": [
        "# Q1.Lets say we have a list L1=[1,2,2,3,2,3,4,5],now identify the most repetitive element in the list?\n"
      ],
      "metadata": {
        "id": "duEAqfPqBj7G"
      }
    },
    {
      "cell_type": "code",
      "source": [
        "# 1s - 1\n",
        "# 2s - 3\n",
        "# 3s - 2\n",
        "# 4s - 1\n",
        "# 5s - 1"
      ],
      "metadata": {
        "id": "BoGU5n7KCHW5"
      },
      "execution_count": null,
      "outputs": []
    },
    {
      "cell_type": "code",
      "source": [
        "num_counter = {}\n",
        "\n",
        "L1=[1,2,2,3,2,3,4,5]\n",
        "for i in L1:\n",
        "  if i in num_counter:\n",
        "    num_counter[i] += 1\n",
        "  else:\n",
        "    num_counter[i] = 1\n",
        "\n",
        "print(num_counter)"
      ],
      "metadata": {
        "colab": {
          "base_uri": "https://localhost:8080/"
        },
        "id": "z6HQE3SbCZ2p",
        "outputId": "81f76f98-9605-4e47-8be1-622712c66b5c"
      },
      "execution_count": null,
      "outputs": [
        {
          "output_type": "stream",
          "name": "stdout",
          "text": [
            "{1: 1, 2: 3, 3: 2, 4: 1, 5: 1}\n"
          ]
        }
      ]
    },
    {
      "cell_type": "code",
      "source": [
        "temp = 0\n",
        "final_result = None\n",
        "\n",
        "for k,v in num_counter.items():\n",
        "  if v > temp:\n",
        "    temp = v\n",
        "    final_result = k\n",
        "\n",
        "print(final_result)"
      ],
      "metadata": {
        "colab": {
          "base_uri": "https://localhost:8080/"
        },
        "id": "DiVyPV9rDW1v",
        "outputId": "b0f7f901-3c9f-4b2f-f6de-5822115e4c6c"
      },
      "execution_count": null,
      "outputs": [
        {
          "output_type": "stream",
          "name": "stdout",
          "text": [
            "2\n"
          ]
        }
      ]
    }
  ]
}