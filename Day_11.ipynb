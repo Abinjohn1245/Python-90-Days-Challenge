{
  "nbformat": 4,
  "nbformat_minor": 0,
  "metadata": {
    "colab": {
      "provenance": []
    },
    "kernelspec": {
      "name": "python3",
      "display_name": "Python 3"
    },
    "language_info": {
      "name": "python"
    }
  },
  "cells": [
    {
      "cell_type": "markdown",
      "source": [
        "# 1. Creating a Dictionary"
      ],
      "metadata": {
        "id": "MYqdC8wFfB8X"
      }
    },
    {
      "cell_type": "code",
      "source": [
        "student = {}"
      ],
      "metadata": {
        "id": "Q5WnSk2UfGPq"
      },
      "execution_count": null,
      "outputs": []
    },
    {
      "cell_type": "code",
      "source": [
        "# List - []\n",
        "# Dict - {}"
      ],
      "metadata": {
        "id": "dKRgrISvfVLI"
      },
      "execution_count": null,
      "outputs": []
    },
    {
      "cell_type": "code",
      "source": [
        "# name, age, gender\n",
        "student = {'Name':'Raju','age':27,'gender':'Male'}\n",
        "\n",
        "# Key-value pairs - 3\n",
        "# Key $ value are linked using :"
      ],
      "metadata": {
        "id": "Y3neJrOWfbtK"
      },
      "execution_count": null,
      "outputs": []
    },
    {
      "cell_type": "code",
      "source": [
        "print(student)"
      ],
      "metadata": {
        "colab": {
          "base_uri": "https://localhost:8080/"
        },
        "id": "pZ2QTQl-gC8n",
        "outputId": "ddb4cb9d-b3be-4029-965e-3076ba34f16e"
      },
      "execution_count": null,
      "outputs": [
        {
          "output_type": "stream",
          "name": "stdout",
          "text": [
            "{'Name': 'Raju', 'age': 27, 'gender': 'Male'}\n"
          ]
        }
      ]
    },
    {
      "cell_type": "markdown",
      "source": [],
      "metadata": {
        "id": "Ctxk0S9OgHrU"
      }
    },
    {
      "cell_type": "markdown",
      "source": [
        "# 2. Accessing Values"
      ],
      "metadata": {
        "id": "PMnWWvq2gOcW"
      }
    },
    {
      "cell_type": "code",
      "source": [
        "student['Name']"
      ],
      "metadata": {
        "colab": {
          "base_uri": "https://localhost:8080/",
          "height": 36
        },
        "id": "k9Cyeb6LgWei",
        "outputId": "d61137e7-0741-4bc8-d096-4f5e77cabb48"
      },
      "execution_count": null,
      "outputs": [
        {
          "output_type": "execute_result",
          "data": {
            "text/plain": [
              "'Raju'"
            ],
            "application/vnd.google.colaboratory.intrinsic+json": {
              "type": "string"
            }
          },
          "metadata": {},
          "execution_count": 4
        }
      ]
    },
    {
      "cell_type": "code",
      "source": [
        "student['Name']='David'"
      ],
      "metadata": {
        "id": "_h3y4sssgsEt"
      },
      "execution_count": null,
      "outputs": []
    },
    {
      "cell_type": "code",
      "source": [
        "student"
      ],
      "metadata": {
        "colab": {
          "base_uri": "https://localhost:8080/"
        },
        "id": "ef1rZMRYgznn",
        "outputId": "9dc7ca6b-dd70-4825-c7a1-8c84298b2321"
      },
      "execution_count": null,
      "outputs": [
        {
          "output_type": "execute_result",
          "data": {
            "text/plain": [
              "{'Name': 'David', 'age': 27, 'gender': 'Male'}"
            ]
          },
          "metadata": {},
          "execution_count": 6
        }
      ]
    },
    {
      "cell_type": "markdown",
      "source": [
        "# 3. Looping Through a Dictionary"
      ],
      "metadata": {
        "id": "lo934puSg_A5"
      }
    },
    {
      "cell_type": "code",
      "source": [
        "student"
      ],
      "metadata": {
        "colab": {
          "base_uri": "https://localhost:8080/"
        },
        "id": "s-S5Cm5ChGgS",
        "outputId": "17ae3a31-6868-474b-c4ad-c5948923142f"
      },
      "execution_count": null,
      "outputs": [
        {
          "output_type": "execute_result",
          "data": {
            "text/plain": [
              "{'Name': 'David', 'age': 27, 'gender': 'Male'}"
            ]
          },
          "metadata": {},
          "execution_count": 7
        }
      ]
    },
    {
      "cell_type": "code",
      "source": [
        "for key in student:\n",
        "  print(key)"
      ],
      "metadata": {
        "colab": {
          "base_uri": "https://localhost:8080/"
        },
        "id": "4bk1bhsDhLTd",
        "outputId": "659fb057-d3be-4097-b731-6e2331abc0e4"
      },
      "execution_count": null,
      "outputs": [
        {
          "output_type": "stream",
          "name": "stdout",
          "text": [
            "Name\n",
            "age\n",
            "gender\n"
          ]
        }
      ]
    },
    {
      "cell_type": "code",
      "source": [
        "for value in student.values():\n",
        "  print(value)"
      ],
      "metadata": {
        "colab": {
          "base_uri": "https://localhost:8080/"
        },
        "id": "XK1kT2kRhTxV",
        "outputId": "4acbc44f-6fd0-4ebc-8528-8c19a31e4da9"
      },
      "execution_count": null,
      "outputs": [
        {
          "output_type": "stream",
          "name": "stdout",
          "text": [
            "David\n",
            "27\n",
            "Male\n"
          ]
        }
      ]
    },
    {
      "cell_type": "code",
      "source": [
        "for k, v in student.items():\n",
        "  print(k,v)"
      ],
      "metadata": {
        "colab": {
          "base_uri": "https://localhost:8080/",
          "height": 158
        },
        "id": "dW6iC1bJhrZ3",
        "outputId": "4ecd57b4-68f6-4409-8aae-c462c16700dc"
      },
      "execution_count": null,
      "outputs": [
        {
          "output_type": "error",
          "ename": "NameError",
          "evalue": "name 'student' is not defined",
          "traceback": [
            "\u001b[0;31m---------------------------------------------------------------------------\u001b[0m",
            "\u001b[0;31mNameError\u001b[0m                                 Traceback (most recent call last)",
            "\u001b[0;32m/tmp/ipython-input-3-1059571827.py\u001b[0m in \u001b[0;36m<cell line: 0>\u001b[0;34m()\u001b[0m\n\u001b[0;32m----> 1\u001b[0;31m \u001b[0;32mfor\u001b[0m \u001b[0mk\u001b[0m\u001b[0;34m,\u001b[0m \u001b[0mv\u001b[0m \u001b[0;32min\u001b[0m \u001b[0mstudent\u001b[0m\u001b[0;34m.\u001b[0m\u001b[0mitems\u001b[0m\u001b[0;34m(\u001b[0m\u001b[0;34m)\u001b[0m\u001b[0;34m:\u001b[0m\u001b[0;34m\u001b[0m\u001b[0;34m\u001b[0m\u001b[0m\n\u001b[0m\u001b[1;32m      2\u001b[0m   \u001b[0mprint\u001b[0m\u001b[0;34m(\u001b[0m\u001b[0mk\u001b[0m\u001b[0;34m,\u001b[0m\u001b[0mv\u001b[0m\u001b[0;34m)\u001b[0m\u001b[0;34m\u001b[0m\u001b[0;34m\u001b[0m\u001b[0m\n",
            "\u001b[0;31mNameError\u001b[0m: name 'student' is not defined"
          ]
        }
      ]
    },
    {
      "cell_type": "code",
      "source": [
        "for k in student:\n",
        "  if k == 'Name':\n",
        "    print('Found the key')"
      ],
      "metadata": {
        "colab": {
          "base_uri": "https://localhost:8080/"
        },
        "id": "qDLpz9A0h3dt",
        "outputId": "e4948c9d-5533-44e0-a46b-70aefda7ec60"
      },
      "execution_count": null,
      "outputs": [
        {
          "output_type": "stream",
          "name": "stdout",
          "text": [
            "Found the key\n"
          ]
        }
      ]
    },
    {
      "cell_type": "code",
      "source": [
        "if 'Name' in student:\n",
        "  print('Found the key')"
      ],
      "metadata": {
        "colab": {
          "base_uri": "https://localhost:8080/"
        },
        "id": "SvRZiRAkiHa2",
        "outputId": "951f76e5-4ae6-4320-889e-c9e83f2d6472"
      },
      "execution_count": null,
      "outputs": [
        {
          "output_type": "stream",
          "name": "stdout",
          "text": [
            "Found the key\n"
          ]
        }
      ]
    },
    {
      "cell_type": "code",
      "source": [
        "if 'name' in student:\n",
        "  print('Not Found the key')"
      ],
      "metadata": {
        "id": "PbqVJfsPiQ5m"
      },
      "execution_count": null,
      "outputs": []
    }
  ]
}